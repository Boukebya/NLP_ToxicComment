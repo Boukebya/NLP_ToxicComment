{
 "cells": [
  {
   "cell_type": "markdown",
   "source": [
    "# Toxic Comment Classification"
   ],
   "metadata": {
    "collapsed": false,
    "pycharm": {
     "name": "#%% md\n"
    }
   }
  },
  {
   "cell_type": "markdown",
   "source": [
    "train.csv - the training set, contains comments with their binary label\n",
    "id,\"comment_text\",\"toxic\",\"severe_toxic\",\"obscene\",\"threat\",\"insult\", \"identity_hate\"\n",
    "\n",
    "test.csv - the test set, you must predict the toxicity probabilities for these comments. To deter hand labeling, the\n",
    "test set contains some comments which are not included in scoring.\n",
    "id,comment_text\n",
    "\n",
    "sample_submission.csv - a sample submission file in the correct format\n",
    "id,toxic,severe_toxic,obscene,threat,insult,identity_hate\n",
    "\n",
    "test_labels.csv - labels for the test data; value of -1 indicates it was not used for scoring; (Note: file added after competition close!)\n",
    "id,toxic,severe_toxic,obscene,threat,insult,identity_hate"
   ],
   "metadata": {
    "collapsed": false,
    "pycharm": {
     "name": "#%% md\n"
    }
   }
  },
  {
   "cell_type": "code",
   "execution_count": null,
   "outputs": [],
   "source": [
    "# import cell"
   ],
   "metadata": {
    "collapsed": false,
    "pycharm": {
     "name": "#%%\n"
    }
   }
  },
  {
   "cell_type": "code",
   "execution_count": null,
   "outputs": [],
   "source": [
    "# data transformation\n",
    "print(\"hello\")"
   ],
   "metadata": {
    "collapsed": false,
    "pycharm": {
     "name": "#%%#print feur\n"
    }
   }
  },
  {
   "cell_type": "code",
   "execution_count": null,
   "outputs": [],
   "source": [
    "# model architecture"
   ],
   "metadata": {
    "collapsed": false,
    "pycharm": {
     "name": "#%%\n"
    }
   }
  },
  {
   "cell_type": "code",
   "execution_count": null,
   "outputs": [],
   "source": [
    "# training"
   ],
   "metadata": {
    "collapsed": false,
    "pycharm": {
     "name": "#%%\n"
    }
   }
  },
  {
   "cell_type": "code",
   "execution_count": 2,
   "outputs": [],
   "source": [
    "# model architecture"
   ],
   "metadata": {
    "collapsed": false
   }
  },
  {
   "cell_type": "code",
   "execution_count": null,
   "outputs": [],
   "source": [
    "# training"
   ],
   "metadata": {
    "collapsed": false
   }
  }
 ],
 "metadata": {
  "kernelspec": {
   "display_name": "Python 3",
   "language": "python",
   "name": "python3"
  },
  "language_info": {
   "codemirror_mode": {
    "name": "ipython",
    "version": 2
   },
   "file_extension": ".py",
   "mimetype": "text/x-python",
   "name": "python",
   "nbconvert_exporter": "python",
   "pygments_lexer": "ipython2",
   "version": "2.7.6"
  }
 },
 "nbformat": 4,
 "nbformat_minor": 0
}