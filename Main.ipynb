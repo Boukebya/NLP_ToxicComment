{
 "cells": [
  {
   "cell_type": "markdown",
   "source": [
    "# Toxic Comment Classification"
   ],
   "metadata": {
    "collapsed": false,
    "pycharm": {
     "name": "#%% md\n"
    }
   }
  },
  {
   "cell_type": "markdown",
   "source": [
    "train.csv - the training set, contains comments with their binary label\n",
    "id,\"comment_text\",\"toxic\",\"severe_toxic\",\"obscene\",\"threat\",\"insult\", \"identity_hate\"\n",
    "\n",
    "test.csv - the test set, you must predict the toxicity probabilities for these comments. To deter hand labeling, the\n",
    "test set contains some comments which are not included in scoring.\n",
    "id,comment_text\n",
    "\n",
    "sample_submission.csv - a sample submission file in the correct format\n",
    "id,toxic,severe_toxic,obscene,threat,insult,identity_hate\n",
    "\n",
    "test_labels.csv - labels for the test data; value of -1 indicates it was not used for scoring; (Note: file added after competition close!)\n",
    "id,toxic,severe_toxic,obscene,threat,insult,identity_hate"
   ],
   "metadata": {
    "collapsed": false,
    "pycharm": {
     "name": "#%% md\n"
    }
   }
  },
  {
   "cell_type": "code",
   "execution_count": null,
   "outputs": [],
   "source": [
    "from nltk.stem import WordNetLemmatizer\n",
    "import nltk\n",
    "nltk.download('omw-1.4')\n",
    "import numpy as np\n",
    "import pandas as pd\n",
    "import matplotlib.pyplot as plt\n",
    "import re\n",
    "\n",
    "nltk.download('punkt')\n",
    "nltk.download('stopwords')\n",
    "nltk.download('wordnet')\n",
    "nltk.download('averaged_perceptron_tagger')"
   ],
   "metadata": {
    "collapsed": false,
    "pycharm": {
     "name": "#%%\n",
     "is_executing": true
    }
   }
  },
  {
   "cell_type": "code",
   "execution_count": null,
   "outputs": [],
   "source": [
    "# data transformation\n",
    "test_dataframe = pd.read_csv(\"test.csv\")\n",
    "train_dataframe = pd.read_csv(\"train.csv\")"
   ],
   "metadata": {
    "collapsed": false,
    "pycharm": {
     "name": "#%%#print feur\n",
     "is_executing": true
    }
   }
  },
  {
   "cell_type": "code",
   "execution_count": null,
   "outputs": [],
   "source": [
    "# data preprocessing function\n",
    "def data_preprocessing(dataframe):\n",
    "    # get lower comment text,replace line breaks with spaces and keep only letters and spaces\n",
    "    for k, v in dataframe[\"comment_text\"].items():\n",
    "        v = v.lower()\n",
    "        v = re.sub(r'\\n', ' ', v)\n",
    "        v = re.sub(r'[^a-z ]', '', v)\n",
    "        dataframe[\"comment_text\"][k] = v\n",
    "    print(\"Keep only lower letters and spaces : \")\n",
    "    print(dataframe[\"comment_text\"][0])\n",
    "\n",
    "    # tokenize comment text\n",
    "    for k, v in dataframe[\"comment_text\"].items():\n",
    "        tokenizer = nltk.RegexpTokenizer(r'\\w+')\n",
    "        token = tokenizer.tokenize(v)\n",
    "        dataframe[\"comment_text\"][k] = token\n",
    "    print(\"Tokenize comment text : \")\n",
    "    print(dataframe[\"comment_text\"][0])\n",
    "\n",
    "    # remove stop words\n",
    "    stop_words = nltk.corpus.stopwords.words('english')\n",
    "    for k, v in dataframe[\"comment_text\"].items():\n",
    "        filtered_sentence = [w for w in v if not w in stop_words]\n",
    "        dataframe[\"comment_text\"][k] = filtered_sentence\n",
    "    print(\"Remove stop words : \")\n",
    "    print(dataframe[\"comment_text\"][0])\n",
    "\n",
    "    # lemmentize comment text\n",
    "    word_lemmatizer = WordNetLemmatizer()\n",
    "    for k, v in dataframe[\"comment_text\"].items():\n",
    "        lemmatized_sentence = [word_lemmatizer.lemmatize(w) for w in v]\n",
    "        dataframe[\"comment_text\"][k] = lemmatized_sentence\n",
    "    print(\"Lemmentize comment text : \")\n",
    "    print(dataframe[\"comment_text\"][0])"
   ],
   "metadata": {
    "collapsed": false,
    "pycharm": {
     "name": "#%%\n",
     "is_executing": true
    }
   }
  },
  {
   "cell_type": "code",
   "execution_count": null,
   "outputs": [],
   "source": [
    "df = f.data_preprocessing(train_dataframe)"
   ],
   "metadata": {
    "collapsed": false,
    "pycharm": {
     "name": "#%%\n",
     "is_executing": true
    }
   }
  },
  {
   "cell_type": "code",
   "execution_count": null,
   "outputs": [],
   "source": [
    "# model architecture"
   ],
   "metadata": {
    "collapsed": false,
    "pycharm": {
     "name": "#%%\n",
     "is_executing": true
    }
   }
  },
  {
   "cell_type": "code",
   "execution_count": null,
   "outputs": [],
   "source": [
    "# training"
   ],
   "metadata": {
    "collapsed": false,
    "pycharm": {
     "name": "#%%\n",
     "is_executing": true
    }
   }
  },
  {
   "cell_type": "code",
   "execution_count": null,
   "outputs": [],
   "source": [
    "# model architecture"
   ],
   "metadata": {
    "collapsed": false,
    "pycharm": {
     "name": "#%%\n",
     "is_executing": true
    }
   }
  },
  {
   "cell_type": "code",
   "execution_count": null,
   "outputs": [],
   "source": [
    "# training"
   ],
   "metadata": {
    "collapsed": false,
    "pycharm": {
     "name": "#%%\n",
     "is_executing": true
    }
   }
  },
  {
   "cell_type": "code",
   "execution_count": 2,
   "outputs": [],
   "source": [
    "# model architecture"
   ],
   "metadata": {
    "collapsed": false
   }
  },
  {
   "cell_type": "code",
   "execution_count": null,
   "outputs": [],
   "source": [
    "# training"
   ],
   "metadata": {
    "collapsed": false
   }
  }
 ],
 "metadata": {
  "kernelspec": {
   "display_name": "Python 3",
   "language": "python",
   "name": "python3"
  },
  "language_info": {
   "codemirror_mode": {
    "name": "ipython",
    "version": 2
   },
   "file_extension": ".py",
   "mimetype": "text/x-python",
   "name": "python",
   "nbconvert_exporter": "python",
   "pygments_lexer": "ipython2",
   "version": "2.7.6"
  }
 },
 "nbformat": 4,
 "nbformat_minor": 0
}